{
 "cells": [
  {
   "cell_type": "code",
   "execution_count": 1,
   "metadata": {},
   "outputs": [],
   "source": [
    "simple_grammar = \"\"\"\n",
    "sentence => noun_phrase verb_phrase\n",
    "noun_phrase => Article Adj* noun\n",
    "Adj* => null | Adj Adj*\n",
    "verb_phrase => verb noun_phrase\n",
    "Article =>  一个 | 这个\n",
    "noun =>   女人 |  篮球 | 桌子 | 小猫\n",
    "verb => 看着   |  坐在 |  听着 | 看见\n",
    "Adj =>  蓝色的 | 好看的 | 小小的\n",
    "\"\"\""
   ]
  },
  {
   "cell_type": "code",
   "execution_count": 2,
   "metadata": {},
   "outputs": [],
   "source": [
    "another_grammer = \"\"\"\n",
    "#\n",
    "\"\"\""
   ]
  },
  {
   "cell_type": "code",
   "execution_count": 4,
   "metadata": {},
   "outputs": [],
   "source": [
    "import random"
   ]
  },
  {
   "cell_type": "code",
   "execution_count": 4,
   "metadata": {},
   "outputs": [],
   "source": [
    "def adj():  return random.choice('蓝色的 | 好看的 | 小小的'.split('|') ).split()[0]"
   ]
  },
  {
   "cell_type": "code",
   "execution_count": 5,
   "metadata": {},
   "outputs": [],
   "source": [
    "def adj_star():\n",
    "    return random.choice([lambda : '', lambda : adj() + adj_star()])()"
   ]
  },
  {
   "cell_type": "code",
   "execution_count": 6,
   "metadata": {},
   "outputs": [
    {
     "data": {
      "text/plain": [
       "'好看的好看的'"
      ]
     },
     "execution_count": 6,
     "metadata": {},
     "output_type": "execute_result"
    }
   ],
   "source": [
    "adj_star()"
   ]
  },
  {
   "cell_type": "markdown",
   "metadata": {},
   "source": [
    "# 设计自己的语言生成器"
   ]
  },
  {
   "cell_type": "code",
   "execution_count": 1,
   "metadata": {},
   "outputs": [],
   "source": [
    "shop_service = \"\"\"\n",
    "shop = 尊称 自我介绍 时间节点 推荐内容\n",
    "尊称 = 称谓 你好, \n",
    "称谓 = 老伯 | 阿姨 | 小姐 | 小朋友 | 先生 | 女生\n",
    "自我介绍 = 我是 职务 姓名 。\n",
    "职务 = 柜员 | 促销员 | 店长\n",
    "姓名 = 小张 | 小王 | 小李\n",
    "时间节点 = 现在是 时间 ,\n",
    "时间 = 早上 | 中午 | 晚上 | 下午\n",
    "推荐内容 = 请问您 行为动词 商品名 吗？\n",
    "行为动词 = 想买 | 是在找 \n",
    "商品名 = 啤酒 | 果汁 | 三明治 | 饼干 | 棒棒糖\n",
    "\"\"\""
   ]
  },
  {
   "cell_type": "code",
   "execution_count": 2,
   "metadata": {},
   "outputs": [],
   "source": [
    "def create_grammer(grammer_str, split='=>', line_split='\\n'):\n",
    "    grammer = {}\n",
    "    for line in grammer_str.split(line_split):\n",
    "        if not line.strip(): continue\n",
    "        exp, stmt = line.split(split)\n",
    "        grammer[exp.strip()] = [i.split() for i in stmt.split('|')]\n",
    "    return grammer"
   ]
  },
  {
   "cell_type": "code",
   "execution_count": 5,
   "metadata": {},
   "outputs": [],
   "source": [
    "choice = random.choice\n",
    "\n",
    "def generate(gram, target):\n",
    "    if target not in gram: return target # 达到最细粒度了，target is a terminal expression\n",
    "    \n",
    "    expand = [generate(gram, t) for t in choice(gram[target])]\n",
    "    return ''.join(e for e in expand if e != 'null')"
   ]
  },
  {
   "cell_type": "code",
   "execution_count": 6,
   "metadata": {},
   "outputs": [
    {
     "name": "stdout",
     "output_type": "stream",
     "text": [
      "老伯你好,我是促销员小李。现在是下午,请问您是在找啤酒吗？\n",
      "老伯你好,我是柜员小张。现在是早上,请问您想买啤酒吗？\n",
      "先生你好,我是柜员小张。现在是晚上,请问您是在找三明治吗？\n",
      "老伯你好,我是促销员小李。现在是中午,请问您是在找饼干吗？\n",
      "女生你好,我是促销员小王。现在是中午,请问您是在找啤酒吗？\n",
      "女生你好,我是促销员小李。现在是晚上,请问您想买三明治吗？\n",
      "阿姨你好,我是柜员小王。现在是中午,请问您想买三明治吗？\n",
      "女生你好,我是促销员小张。现在是下午,请问您想买三明治吗？\n",
      "阿姨你好,我是店长小李。现在是下午,请问您是在找果汁吗？\n",
      "老伯你好,我是柜员小张。现在是晚上,请问您想买棒棒糖吗？\n"
     ]
    }
   ],
   "source": [
    "for i in range(10):\n",
    "    print(generate(gram=create_grammer(shop_service, split='=', line_split='\\n'), target='shop'))"
   ]
  },
  {
   "cell_type": "code",
   "execution_count": 8,
   "metadata": {},
   "outputs": [],
   "source": [
    "def generate_n(n: int):\n",
    "    sentences = []\n",
    "    for i in range(n):\n",
    "        senten = generate(gram=create_grammer(shop_service, split='=', line_split='\\n'), target='shop')\n",
    "        sentences.append(senten)\n",
    "    return sentences"
   ]
  },
  {
   "cell_type": "code",
   "execution_count": 9,
   "metadata": {},
   "outputs": [
    {
     "data": {
      "text/plain": [
       "['先生你好,我是促销员小李。现在是早上,请问您想买啤酒吗？',\n",
       " '女生你好,我是店长小张。现在是中午,请问您想买饼干吗？',\n",
       " '老伯你好,我是柜员小张。现在是下午,请问您想买棒棒糖吗？',\n",
       " '小姐你好,我是店长小张。现在是晚上,请问您想买棒棒糖吗？',\n",
       " '老伯你好,我是促销员小李。现在是中午,请问您想买三明治吗？',\n",
       " '小姐你好,我是促销员小张。现在是下午,请问您是在找三明治吗？',\n",
       " '阿姨你好,我是柜员小王。现在是早上,请问您是在找啤酒吗？',\n",
       " '阿姨你好,我是促销员小王。现在是晚上,请问您是在找棒棒糖吗？',\n",
       " '老伯你好,我是柜员小李。现在是下午,请问您想买果汁吗？',\n",
       " '阿姨你好,我是促销员小王。现在是下午,请问您想买啤酒吗？']"
      ]
     },
     "execution_count": 9,
     "metadata": {},
     "output_type": "execute_result"
    }
   ],
   "source": [
    "generate_n(10)"
   ]
  },
  {
   "cell_type": "markdown",
   "metadata": {},
   "source": [
    "# 使用新数据源完成新语言模型"
   ]
  },
  {
   "cell_type": "code",
   "execution_count": 10,
   "metadata": {},
   "outputs": [],
   "source": [
    "csv_file_path = '/Users/Administrator/Downloads/movie_comments.csv'"
   ]
  },
  {
   "cell_type": "code",
   "execution_count": 11,
   "metadata": {},
   "outputs": [],
   "source": [
    "import pandas as pd\n",
    "import jieba\n",
    "import re\n",
    "from collections import Counter"
   ]
  },
  {
   "cell_type": "code",
   "execution_count": 12,
   "metadata": {},
   "outputs": [],
   "source": [
    "content = pd.read_csv(csv_file_path, encoding='utf-8', low_memory=False)"
   ]
  },
  {
   "cell_type": "code",
   "execution_count": 13,
   "metadata": {},
   "outputs": [
    {
     "data": {
      "text/html": [
       "<div>\n",
       "<style scoped>\n",
       "    .dataframe tbody tr th:only-of-type {\n",
       "        vertical-align: middle;\n",
       "    }\n",
       "\n",
       "    .dataframe tbody tr th {\n",
       "        vertical-align: top;\n",
       "    }\n",
       "\n",
       "    .dataframe thead th {\n",
       "        text-align: right;\n",
       "    }\n",
       "</style>\n",
       "<table border=\"1\" class=\"dataframe\">\n",
       "  <thead>\n",
       "    <tr style=\"text-align: right;\">\n",
       "      <th></th>\n",
       "      <th>id</th>\n",
       "      <th>link</th>\n",
       "      <th>name</th>\n",
       "      <th>comment</th>\n",
       "      <th>star</th>\n",
       "    </tr>\n",
       "  </thead>\n",
       "  <tbody>\n",
       "    <tr>\n",
       "      <th>90</th>\n",
       "      <td>91</td>\n",
       "      <td>https://movie.douban.com/subject/26363254/</td>\n",
       "      <td>战狼2</td>\n",
       "      <td>#电影院#一个人就买了四张票（不打折）请全家看，心疼我的小钱钱≥﹏≤ 还好家长们的反应是好的...</td>\n",
       "      <td>4</td>\n",
       "    </tr>\n",
       "    <tr>\n",
       "      <th>91</th>\n",
       "      <td>92</td>\n",
       "      <td>https://movie.douban.com/subject/26363254/</td>\n",
       "      <td>战狼2</td>\n",
       "      <td>听说过夜郎自大吗？我第一次知道中国人这么牛逼。中国部队所向披靡，连特么坦克都能给你开漂移。整...</td>\n",
       "      <td>2</td>\n",
       "    </tr>\n",
       "    <tr>\n",
       "      <th>92</th>\n",
       "      <td>93</td>\n",
       "      <td>https://movie.douban.com/subject/26363254/</td>\n",
       "      <td>战狼2</td>\n",
       "      <td>我跟你们讲，吴京当年在电视上大吹牛逼，说自己在杀破狼里和甄子丹真打，多厉害多牛逼。结果花絮里...</td>\n",
       "      <td>1</td>\n",
       "    </tr>\n",
       "    <tr>\n",
       "      <th>93</th>\n",
       "      <td>94</td>\n",
       "      <td>https://movie.douban.com/subject/26363254/</td>\n",
       "      <td>战狼2</td>\n",
       "      <td>「中國狼不咬中國人！」www</td>\n",
       "      <td>1</td>\n",
       "    </tr>\n",
       "    <tr>\n",
       "      <th>94</th>\n",
       "      <td>95</td>\n",
       "      <td>https://movie.douban.com/subject/26363254/</td>\n",
       "      <td>战狼2</td>\n",
       "      <td>冷锋像是一个符号，他代表着千千万万守护我们的军人。“国强则民安”，生活在这个没有战争的国度，...</td>\n",
       "      <td>5</td>\n",
       "    </tr>\n",
       "    <tr>\n",
       "      <th>95</th>\n",
       "      <td>96</td>\n",
       "      <td>https://movie.douban.com/subject/26363254/</td>\n",
       "      <td>战狼2</td>\n",
       "      <td>非常难看 也不知道导演哪儿来的自信</td>\n",
       "      <td>1</td>\n",
       "    </tr>\n",
       "    <tr>\n",
       "      <th>96</th>\n",
       "      <td>97</td>\n",
       "      <td>https://movie.douban.com/subject/26363254/</td>\n",
       "      <td>战狼2</td>\n",
       "      <td>一部政治宣传片！中国也就在非洲还有点脸面了！给宏大的战争场面和吴京卖力的打斗五星，剧情减一星...</td>\n",
       "      <td>3</td>\n",
       "    </tr>\n",
       "    <tr>\n",
       "      <th>97</th>\n",
       "      <td>98</td>\n",
       "      <td>https://movie.douban.com/subject/26363254/</td>\n",
       "      <td>战狼2</td>\n",
       "      <td>诚意满满，全程无尿点。吴京非常帅，剧情比战狼1好看多了。</td>\n",
       "      <td>5</td>\n",
       "    </tr>\n",
       "    <tr>\n",
       "      <th>98</th>\n",
       "      <td>99</td>\n",
       "      <td>https://movie.douban.com/subject/26363254/</td>\n",
       "      <td>战狼2</td>\n",
       "      <td>23点45分开始，1点48分结束，我看了12次手机，影厅的天花板上有8条线组合成三角形装饰，...</td>\n",
       "      <td>2</td>\n",
       "    </tr>\n",
       "    <tr>\n",
       "      <th>99</th>\n",
       "      <td>100</td>\n",
       "      <td>https://movie.douban.com/subject/26363254/</td>\n",
       "      <td>战狼2</td>\n",
       "      <td>有一场坦克戏，简直令人浮想连连啊，吴京真的不是故意的嘛。又是压人压成肉泥的镜头，又是吴京站在...</td>\n",
       "      <td>4</td>\n",
       "    </tr>\n",
       "  </tbody>\n",
       "</table>\n",
       "</div>"
      ],
      "text/plain": [
       "     id                                        link name  \\\n",
       "90   91  https://movie.douban.com/subject/26363254/  战狼2   \n",
       "91   92  https://movie.douban.com/subject/26363254/  战狼2   \n",
       "92   93  https://movie.douban.com/subject/26363254/  战狼2   \n",
       "93   94  https://movie.douban.com/subject/26363254/  战狼2   \n",
       "94   95  https://movie.douban.com/subject/26363254/  战狼2   \n",
       "95   96  https://movie.douban.com/subject/26363254/  战狼2   \n",
       "96   97  https://movie.douban.com/subject/26363254/  战狼2   \n",
       "97   98  https://movie.douban.com/subject/26363254/  战狼2   \n",
       "98   99  https://movie.douban.com/subject/26363254/  战狼2   \n",
       "99  100  https://movie.douban.com/subject/26363254/  战狼2   \n",
       "\n",
       "                                              comment star  \n",
       "90  #电影院#一个人就买了四张票（不打折）请全家看，心疼我的小钱钱≥﹏≤ 还好家长们的反应是好的...    4  \n",
       "91  听说过夜郎自大吗？我第一次知道中国人这么牛逼。中国部队所向披靡，连特么坦克都能给你开漂移。整...    2  \n",
       "92  我跟你们讲，吴京当年在电视上大吹牛逼，说自己在杀破狼里和甄子丹真打，多厉害多牛逼。结果花絮里...    1  \n",
       "93                                     「中國狼不咬中國人！」www    1  \n",
       "94  冷锋像是一个符号，他代表着千千万万守护我们的军人。“国强则民安”，生活在这个没有战争的国度，...    5  \n",
       "95                                  非常难看 也不知道导演哪儿来的自信    1  \n",
       "96  一部政治宣传片！中国也就在非洲还有点脸面了！给宏大的战争场面和吴京卖力的打斗五星，剧情减一星...    3  \n",
       "97                       诚意满满，全程无尿点。吴京非常帅，剧情比战狼1好看多了。    5  \n",
       "98  23点45分开始，1点48分结束，我看了12次手机，影厅的天花板上有8条线组合成三角形装饰，...    2  \n",
       "99  有一场坦克戏，简直令人浮想连连啊，吴京真的不是故意的嘛。又是压人压成肉泥的镜头，又是吴京站在...    4  "
      ]
     },
     "execution_count": 13,
     "metadata": {},
     "output_type": "execute_result"
    }
   ],
   "source": [
    "content[90:100]"
   ]
  },
  {
   "cell_type": "code",
   "execution_count": 14,
   "metadata": {},
   "outputs": [],
   "source": [
    "comments = content['comment'].tolist()"
   ]
  },
  {
   "cell_type": "code",
   "execution_count": 15,
   "metadata": {},
   "outputs": [],
   "source": [
    "def token(string):\n",
    "    return ''.join(re.findall('\\w+', string))"
   ]
  },
  {
   "cell_type": "code",
   "execution_count": 16,
   "metadata": {},
   "outputs": [],
   "source": [
    "comments_clean = [token(str(a)) for a in comments]"
   ]
  },
  {
   "cell_type": "code",
   "execution_count": 17,
   "metadata": {},
   "outputs": [],
   "source": [
    "def cut(sentence):\n",
    "    return list(jieba.cut(sentence)) if sentence else []"
   ]
  },
  {
   "cell_type": "code",
   "execution_count": 18,
   "metadata": {},
   "outputs": [],
   "source": [
    "def get_token():\n",
    "    TOKEN = []  \n",
    "    for i in comments_clean:\n",
    "        TOKEN.extend(cut(i))\n",
    "    return TOKEN"
   ]
  },
  {
   "cell_type": "code",
   "execution_count": 20,
   "metadata": {},
   "outputs": [],
   "source": [
    "TOKEN = get_token()"
   ]
  },
  {
   "cell_type": "code",
   "execution_count": 21,
   "metadata": {},
   "outputs": [],
   "source": [
    "comment_count = Counter(TOKEN)"
   ]
  },
  {
   "cell_type": "code",
   "execution_count": 22,
   "metadata": {},
   "outputs": [
    {
     "data": {
      "text/plain": [
       "[('的', 328262),\n",
       " ('了', 102420),\n",
       " ('是', 73106),\n",
       " ('我', 50338),\n",
       " ('都', 36255),\n",
       " ('很', 34712),\n",
       " ('看', 34022),\n",
       " ('电影', 33675),\n",
       " ('也', 32065),\n",
       " ('和', 31290)]"
      ]
     },
     "execution_count": 22,
     "metadata": {},
     "output_type": "execute_result"
    }
   ],
   "source": [
    "comment_count.most_common(10)"
   ]
  },
  {
   "cell_type": "code",
   "execution_count": 23,
   "metadata": {},
   "outputs": [
    {
     "data": {
      "text/plain": [
       "['吴京',\n",
       " '意淫',\n",
       " '到',\n",
       " '了',\n",
       " '脑残',\n",
       " '的',\n",
       " '地步',\n",
       " '看',\n",
       " '了',\n",
       " '恶心',\n",
       " '想',\n",
       " '吐',\n",
       " '首映礼',\n",
       " '看',\n",
       " '的',\n",
       " '太',\n",
       " '恐怖',\n",
       " '了',\n",
       " '这个',\n",
       " '电影']"
      ]
     },
     "execution_count": 23,
     "metadata": {},
     "output_type": "execute_result"
    }
   ],
   "source": [
    "TOKEN[:20]"
   ]
  },
  {
   "cell_type": "code",
   "execution_count": 24,
   "metadata": {},
   "outputs": [],
   "source": [
    "def prob_1(word):\n",
    "    return comment_count[word] / len(TOKEN)"
   ]
  },
  {
   "cell_type": "code",
   "execution_count": 25,
   "metadata": {},
   "outputs": [
    {
     "data": {
      "text/plain": [
       "278"
      ]
     },
     "execution_count": 25,
     "metadata": {},
     "output_type": "execute_result"
    }
   ],
   "source": [
    "comment_count['吴京']"
   ]
  },
  {
   "cell_type": "code",
   "execution_count": 26,
   "metadata": {},
   "outputs": [],
   "source": [
    "TOKEN_2_GRAM = [TOKEN[i] + TOKEN[i+1] for i  in range(len(TOKEN))[:-2]]"
   ]
  },
  {
   "cell_type": "code",
   "execution_count": 27,
   "metadata": {},
   "outputs": [],
   "source": [
    "comment_count_2 = Counter(TOKEN_2_GRAM)"
   ]
  },
  {
   "cell_type": "code",
   "execution_count": 28,
   "metadata": {},
   "outputs": [
    {
     "data": {
      "text/plain": [
       "[('的电影', 8640),\n",
       " ('看的', 7106),\n",
       " ('都是', 6335),\n",
       " ('让人', 5284),\n",
       " ('的故事', 4709),\n",
       " ('看了', 4585),\n",
       " ('也是', 4408),\n",
       " ('的时候', 4398),\n",
       " ('的人', 4356),\n",
       " ('的是', 4348)]"
      ]
     },
     "execution_count": 28,
     "metadata": {},
     "output_type": "execute_result"
    }
   ],
   "source": [
    "\n",
    "comment_count_2.most_common(10)"
   ]
  },
  {
   "cell_type": "code",
   "execution_count": 29,
   "metadata": {},
   "outputs": [],
   "source": [
    "def prob_2(word1, word2):\n",
    "    # 2-gram language_module\n",
    "    if word1 + word2 in comment_count_2:\n",
    "        return comment_count_2[word1 + word2] / comment_count[word1]\n",
    "    else:\n",
    "        return 1 / len(TOKEN_2_GRAM)"
   ]
  },
  {
   "cell_type": "code",
   "execution_count": 30,
   "metadata": {},
   "outputs": [
    {
     "data": {
      "text/plain": [
       "2.969561989606533e-05"
      ]
     },
     "execution_count": 30,
     "metadata": {},
     "output_type": "execute_result"
    }
   ],
   "source": [
    "prob_2('电影', '恐怖')"
   ]
  },
  {
   "cell_type": "code",
   "execution_count": 35,
   "metadata": {},
   "outputs": [],
   "source": [
    "ssenten_test = generate_n(10)"
   ]
  },
  {
   "cell_type": "code",
   "execution_count": 36,
   "metadata": {},
   "outputs": [
    {
     "data": {
      "text/plain": [
       "['女生你好,我是促销员小王。现在是中午,请问您是在找棒棒糖吗？',\n",
       " '先生你好,我是柜员小李。现在是下午,请问您想买饼干吗？',\n",
       " '女生你好,我是促销员小王。现在是晚上,请问您想买棒棒糖吗？',\n",
       " '先生你好,我是促销员小王。现在是晚上,请问您是在找啤酒吗？',\n",
       " '小朋友你好,我是柜员小王。现在是下午,请问您是在找啤酒吗？',\n",
       " '先生你好,我是促销员小王。现在是早上,请问您是在找三明治吗？',\n",
       " '老伯你好,我是店长小张。现在是晚上,请问您是在找饼干吗？',\n",
       " '阿姨你好,我是店长小王。现在是下午,请问您想买棒棒糖吗？',\n",
       " '先生你好,我是店长小张。现在是早上,请问您是在找饼干吗？',\n",
       " '阿姨你好,我是店长小李。现在是晚上,请问您想买三明治吗？']"
      ]
     },
     "execution_count": 36,
     "metadata": {},
     "output_type": "execute_result"
    }
   ],
   "source": [
    "ssenten_test"
   ]
  },
  {
   "cell_type": "code",
   "execution_count": 37,
   "metadata": {},
   "outputs": [],
   "source": [
    "def get_sentence_probability(sentence):\n",
    "    words = cut(sentence)\n",
    "    \n",
    "    sentence_prob = 1\n",
    "    for i, word in enumerate(words[:-1]):\n",
    "        word_next = words[i+1]\n",
    "        prob = prob_2(word, word_next)\n",
    "        sentence_prob *= prob\n",
    "    return sentence_prob"
   ]
  },
  {
   "cell_type": "code",
   "execution_count": 48,
   "metadata": {},
   "outputs": [],
   "source": [
    "def generate_best_sentence(grammer=shop_service, n=5):\n",
    "    result = []\n",
    "    for i in range(n):\n",
    "        sentence = generate(gram=create_grammer(shop_service, split='=', line_split='\\n'), target='shop')\n",
    "        prob = get_sentence_probability(sentence)\n",
    "        result.append((sentence, prob))\n",
    "    result = sorted(result, key=lambda x: x[1], reverse=True)\n",
    "    for item in result:\n",
    "        print(f'sentence: {item[0]} with probability {item[1]}')\n",
    "    print(f'The best sentence is {result[0][0]}')"
   ]
  },
  {
   "cell_type": "code",
   "execution_count": 49,
   "metadata": {},
   "outputs": [
    {
     "data": {
      "text/plain": [
       "4.315929374692288e-101"
      ]
     },
     "execution_count": 49,
     "metadata": {},
     "output_type": "execute_result"
    }
   ],
   "source": [
    "get_sentence_probability('阿姨你好,我是店长小李。现在是晚上,请问您想买三明治吗？')"
   ]
  },
  {
   "cell_type": "code",
   "execution_count": 50,
   "metadata": {},
   "outputs": [
    {
     "name": "stdout",
     "output_type": "stream",
     "text": [
      "sentence: 小姐你好,我是店长小张。现在是下午,请问您是在找饼干吗？ with probability 1.1349919435852813e-97\n",
      "sentence: 老伯你好,我是店长小张。现在是早上,请问您想买饼干吗？ with probability 5.301853513091648e-99\n",
      "sentence: 老伯你好,我是柜员小李。现在是晚上,请问您想买三明治吗？ with probability 4.315929374692288e-101\n",
      "sentence: 小姐你好,我是柜员小张。现在是下午,请问您想买饼干吗？ with probability 4.315929374692288e-101\n",
      "sentence: 阿姨你好,我是促销员小张。现在是晚上,请问您想买饼干吗？ with probability 4.315929374692288e-101\n",
      "The best sentence is 小姐你好,我是店长小张。现在是下午,请问您是在找饼干吗？\n"
     ]
    }
   ],
   "source": [
    "generate_best_sentence(n=5)"
   ]
  },
  {
   "cell_type": "code",
   "execution_count": null,
   "metadata": {},
   "outputs": [],
   "source": []
  }
 ],
 "metadata": {
  "kernelspec": {
   "display_name": "Python 3",
   "language": "python",
   "name": "python3"
  },
  "language_info": {
   "codemirror_mode": {
    "name": "ipython",
    "version": 3
   },
   "file_extension": ".py",
   "mimetype": "text/x-python",
   "name": "python",
   "nbconvert_exporter": "python",
   "pygments_lexer": "ipython3",
   "version": "3.7.3"
  }
 },
 "nbformat": 4,
 "nbformat_minor": 2
}
